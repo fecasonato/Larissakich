{
  "nbformat": 4,
  "nbformat_minor": 0,
  "metadata": {
    "colab": {
      "provenance": [],
      "authorship_tag": "ABX9TyPkkrVL5oQasqusoJBPsacN",
      "include_colab_link": true
    },
    "kernelspec": {
      "name": "python3",
      "display_name": "Python 3"
    },
    "language_info": {
      "name": "python"
    }
  },
  "cells": [
    {
      "cell_type": "markdown",
      "metadata": {
        "id": "view-in-github",
        "colab_type": "text"
      },
      "source": [
        "<a href=\"https://colab.research.google.com/github/fecasonato/Larissakich/blob/main/Tarefa_515.ipynb\" target=\"_parent\"><img src=\"https://colab.research.google.com/assets/colab-badge.svg\" alt=\"Open In Colab\"/></a>"
      ]
    },
    {
      "cell_type": "code",
      "execution_count": 4,
      "metadata": {
        "colab": {
          "base_uri": "https://localhost:8080/"
        },
        "id": "ev5QA_NS12Zi",
        "outputId": "9aaee7d2-6cdc-4e4f-b80b-a75343812e45"
      },
      "outputs": [
        {
          "output_type": "stream",
          "name": "stdout",
          "text": [
            "Olá Professor\n"
          ]
        }
      ],
      "source": [
        "print(\"Olá Professor\")"
      ]
    },
    {
      "cell_type": "code",
      "source": [
        "\n",
        "# Aguarda a digitação do primeiro número\n",
        "num1 = input(\"Digite o primeiro número: \")\n",
        "\n",
        "#Converter em real\n",
        "num1_convertido = float(num1)\n",
        "\n",
        "\n",
        "# Aguarda a digitação do segundo número\n",
        "num2 = input(\"Digite o segundo número: \")\n",
        "\n",
        "#Converter em real\n",
        "num2_convertido = float(num2)\n",
        "\n",
        "#somar os valores\n",
        "soma = num1_convertido + num2_convertido\n",
        "\n",
        "# Exibe o resultado\n",
        "print(\"A soma dos números é:\", soma)\n",
        "\n",
        "#subtrair os valores\n",
        "subtracao = num1_convertido - num2_convertido\n",
        "\n",
        "# Exibe o resultado\n",
        "print(\"A subtração dos números é:\", subtracao)\n",
        "\n",
        "#divisão inteira de valores\n",
        "divisao_inteira = num1_convertido // num2_convertido\n",
        "\n",
        "# Exibe o resultado\n",
        "print(\"A divisão inteira dos números é:\", divisao_inteira)\n",
        "\n",
        "#multiplicação de valores\n",
        "multiplicacao = num1_convertido * num2_convertido\n",
        "\n",
        "# Exibe o resultado\n",
        "print(\"A multiplicação dos números é:\", multiplicacao)\n",
        "\n",
        "# Aguarda a digitação do primeiro número\n",
        "num1 = input(\"Digite o primeiro número: \")\n",
        "\n",
        "#Converter em real\n",
        "num1_convertido = float(num1)\n",
        "\n",
        "\n",
        "# Aguarda a digitação do segundo número\n",
        "num2 = input(\"Digite o segundo número: \")\n",
        "\n",
        "#Converter em real\n",
        "num2_convertido = float(num2)\n",
        "\n",
        "#somar os valores\n",
        "soma = num1_convertido + num2_convertido\n",
        "\n",
        "# Exibe o resultado\n",
        "print(\"A soma dos números é:\", soma)\n",
        "\n",
        "#subtrair os valores\n",
        "subtracao = num1_convertido - num2_convertido\n",
        "\n",
        "# Exibe o resultado\n",
        "print(\"A subtração dos números é:\", subtracao)\n",
        "\n",
        "#divisão inteira de valores\n",
        "divisao_inteira = num1_convertido // num2_convertido\n",
        "\n",
        "# Exibe o resultado\n",
        "print(\"A divisão inteira dos números é:\", divisao_inteira)\n",
        "\n",
        "#multiplicação de valores\n",
        "multiplicacao = num1_convertido * num2_convertido\n",
        "\n",
        "# Exibe o resultado\n",
        "print(\"A multiplicação dos números é:\", multiplicacao)\n",
        "\n",
        "#if\n",
        "if num1_convertido > num2_convertido:\n",
        "    print(\"O primeiro número é maior que o segundo.\")\n",
        "elif num1_convertido < num2_convertido:\n",
        "    print(\"O segundo número é maior que o primeiro.\")\n",
        "else:\n",
        "    print(\"Os números são iguais.\")\n",
        "\n",
        "\n"
      ],
      "metadata": {
        "colab": {
          "base_uri": "https://localhost:8080/"
        },
        "id": "GdKWnjCH29T7",
        "outputId": "ea25c485-a37d-4b43-dcd7-ea676b682bc0"
      },
      "execution_count": 10,
      "outputs": [
        {
          "output_type": "stream",
          "name": "stdout",
          "text": [
            "Digite o primeiro número: 5\n",
            "Digite o segundo número: 2\n",
            "A soma dos números é: 7.0\n",
            "A subtração dos números é: 3.0\n",
            "A divisão inteira dos números é: 2.0\n",
            "A multiplicação dos números é: 10.0\n",
            "Digite o primeiro número: 1\n",
            "Digite o segundo número: 2\n",
            "A soma dos números é: 3.0\n",
            "A subtração dos números é: -1.0\n",
            "A divisão inteira dos números é: 0.0\n",
            "A multiplicação dos números é: 2.0\n",
            "O segundo número é maior que o primeiro.\n"
          ]
        }
      ]
    },
    {
      "cell_type": "code",
      "source": [],
      "metadata": {
        "id": "TWM45nVnSivM"
      },
      "execution_count": 47,
      "outputs": []
    }
  ]
}